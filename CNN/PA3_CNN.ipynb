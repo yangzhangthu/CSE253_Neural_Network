{
 "cells": [
  {
   "cell_type": "code",
   "execution_count": 1,
   "metadata": {},
   "outputs": [],
   "source": [
    "import torch\n",
    "import numpy as np\n",
    "import matplotlib.pyplot as plt\n",
    "import torchvision\n",
    "import torchvision.transforms as transforms\n",
    "from torch.autograd import Variable\n",
    "import torch.nn as nn\n",
    "import torch.nn.functional as F\n",
    "import torch.optim as optim\n",
    "from torch.optim import lr_scheduler"
   ]
  },
  {
   "cell_type": "code",
   "execution_count": 2,
   "metadata": {},
   "outputs": [],
   "source": [
    "%matplotlib inline"
   ]
  },
  {
   "cell_type": "code",
   "execution_count": 3,
   "metadata": {},
   "outputs": [
    {
     "name": "stdout",
     "output_type": "stream",
     "text": [
      "Files already downloaded and verified\n",
      "Files already downloaded and verified\n"
     ]
    }
   ],
   "source": [
    "transform = transforms.Compose([transforms.RandomHorizontalFlip(),\n",
    "                                transforms.RandomCrop(32,padding=4),\n",
    "                                transforms.ToTensor(),\n",
    "                                transforms.Normalize((0.4914, 0.4822, 0.4465), (0.2023, 0.1994, 0.2010))])\n",
    "\n",
    "transform2 = transforms.Compose([transforms.ToTensor(),\n",
    "                                transforms.Normalize((0.4914, 0.4822, 0.4465), (0.2023, 0.1994, 0.2010))])\n",
    "\n",
    "trainset = torchvision.datasets.CIFAR10(root='/datasets/CIFAR-10', train=True,\n",
    "                                        download=True, transform=transform)\n",
    "\n",
    "testset = torchvision.datasets.CIFAR10(root='/datasets/CIFAR-10', train=False,\n",
    "                                       download=True, transform=transform2)\n",
    "\n",
    "classes = ('plane', 'car', 'bird', 'cat',\n",
    "           'deer', 'dog', 'frog', 'horse', 'ship', 'truck')"
   ]
  },
  {
   "cell_type": "code",
   "execution_count": 4,
   "metadata": {},
   "outputs": [],
   "source": [
    "n_train = len(trainset)\n",
    "idx = list(range(n_train))\n",
    "np.random.seed(253)\n",
    "np.random.shuffle(idx)\n",
    "splt = 40000\n",
    "sampler_train = idx[:splt]\n",
    "sampler_vali = idx[splt:]\n",
    "\n",
    "trainloader = torch.utils.data.DataLoader(trainset, batch_size=128,\n",
    "                                          shuffle=False, sampler=sampler_train, num_workers=2)\n",
    "\n",
    "trloader = torch.utils.data.DataLoader(trainset, batch_size=128,\n",
    "                                          shuffle=False, sampler=sampler_train, num_workers=2)\n",
    "\n",
    "valiloader = torch.utils.data.DataLoader(trainset, batch_size=128,\n",
    "                                          shuffle=False, sampler=sampler_vali, num_workers=2)\n",
    "\n",
    "testloader = torch.utils.data.DataLoader(testset, batch_size=128,\n",
    "                                         shuffle=False, num_workers=2)"
   ]
  },
  {
   "cell_type": "code",
   "execution_count": 5,
   "metadata": {},
   "outputs": [],
   "source": [
    "def eva(loader):\n",
    "    net.eval()\n",
    "    correct = 0\n",
    "    total = 0\n",
    "    test_loss = 0\n",
    "    for data in loader:\n",
    "        images, labels = data\n",
    "        outputs = net(Variable(images).cuda())\n",
    "        _, predicted = torch.max(outputs.data, 1)\n",
    "        total += labels.size(0)\n",
    "        correct += (predicted.cpu() == labels).sum()\n",
    "        loss = criterion(outputs, Variable(labels).cuda())\n",
    "        test_loss += loss.data[0]\n",
    "    return 100.0*correct/total, test_loss*1.0/len(loader)"
   ]
  },
  {
   "cell_type": "code",
   "execution_count": 6,
   "metadata": {},
   "outputs": [],
   "source": [
    "def confusion(loader):\n",
    "    M = np.zeros((10,10))\n",
    "    for data in loader:\n",
    "        net.eval()\n",
    "        images, labels = data\n",
    "        outputs = net(Variable(images).cuda())\n",
    "        _, predicted = torch.max(outputs.data, 1)\n",
    "        for i in range(len(labels.numpy())):\n",
    "            M[labels.numpy()[i], predicted.cpu()[i]]+=1\n",
    "    for i in range(10):\n",
    "        M[i,:] = M[i,:]*1.0/sum(M[i,:])\n",
    "    plt.figure()\n",
    "    plt.imshow(M)\n",
    "    plt.xticks(np.arange(10), classes, rotation='vertical')\n",
    "    plt.yticks(np.arange(10), classes)"
   ]
  },
  {
   "cell_type": "code",
   "execution_count": 7,
   "metadata": {},
   "outputs": [],
   "source": [
    "def weights_init(m):\n",
    "    if isinstance(m, nn.Conv2d):\n",
    "        nn.init.kaiming_uniform(m.weight.data)"
   ]
  },
  {
   "cell_type": "code",
   "execution_count": 8,
   "metadata": {},
   "outputs": [
    {
     "data": {
      "text/plain": [
       "True"
      ]
     },
     "execution_count": 8,
     "metadata": {},
     "output_type": "execute_result"
    }
   ],
   "source": [
    "torch.cuda.is_available()"
   ]
  },
  {
   "cell_type": "code",
   "execution_count": 41,
   "metadata": {},
   "outputs": [
    {
     "data": {
      "text/plain": [
       "Net (\n",
       "  (conv1): Conv2d(3, 16, kernel_size=(5, 5), stride=(1, 1), padding=(2, 2))\n",
       "  (bn1): BatchNorm2d(16, eps=1e-05, momentum=0.1, affine=True)\n",
       "  (conv15): Conv2d(16, 32, kernel_size=(5, 5), stride=(1, 1), padding=(2, 2))\n",
       "  (bn15): BatchNorm2d(32, eps=1e-05, momentum=0.1, affine=True)\n",
       "  (pool): MaxPool2d (size=(2, 2), stride=(2, 2), dilation=(1, 1))\n",
       "  (conv2): Conv2d(32, 64, kernel_size=(5, 5), stride=(1, 1), padding=(2, 2))\n",
       "  (bn2): BatchNorm2d(64, eps=1e-05, momentum=0.1, affine=True)\n",
       "  (conv25): Conv2d(64, 128, kernel_size=(5, 5), stride=(1, 1), padding=(2, 2))\n",
       "  (bn25): BatchNorm2d(128, eps=1e-05, momentum=0.1, affine=True)\n",
       "  (conv3): Conv2d(128, 256, kernel_size=(5, 5), stride=(1, 1), padding=(2, 2))\n",
       "  (bn3): BatchNorm2d(256, eps=1e-05, momentum=0.1, affine=True)\n",
       "  (conv35): Conv2d(256, 512, kernel_size=(5, 5), stride=(1, 1), padding=(2, 2))\n",
       "  (bn35): BatchNorm2d(512, eps=1e-05, momentum=0.1, affine=True)\n",
       "  (fc1): Linear (8192 -> 128)\n",
       "  (bn4): BatchNorm1d(128, eps=1e-05, momentum=0.1, affine=True)\n",
       "  (fc2): Linear (128 -> 10)\n",
       ")"
      ]
     },
     "execution_count": 41,
     "metadata": {},
     "output_type": "execute_result"
    }
   ],
   "source": [
    "class Net(nn.Module):\n",
    "    def __init__(self):\n",
    "        super(Net, self).__init__()\n",
    "        self.conv1 = nn.Conv2d(3, 16, 5, padding=2)\n",
    "        self.bn1 = nn.BatchNorm2d(16)\n",
    "        self.conv15 = nn.Conv2d(16, 32, 5, padding=2)\n",
    "        self.bn15 = nn.BatchNorm2d(32)\n",
    "        self.pool = nn.MaxPool2d(2, 2)\n",
    "        self.conv2 = nn.Conv2d(32, 64, 5, padding=2)\n",
    "        self.bn2 = nn.BatchNorm2d(64)\n",
    "        self.conv25 = nn.Conv2d(64, 128, 5, padding=2)\n",
    "        self.bn25 = nn.BatchNorm2d(128)\n",
    "        self.conv3 = nn.Conv2d(128, 256, 5, padding=2)\n",
    "        self.bn3 = nn.BatchNorm2d(256)\n",
    "        self.conv35 = nn.Conv2d(256, 512, 5, padding=2)\n",
    "        self.bn35 = nn.BatchNorm2d(512)\n",
    "        self.fc1 = nn.Linear(512 * 4 * 4, 128)\n",
    "        self.bn4 = nn.BatchNorm1d(128)\n",
    "        self.fc2 = nn.Linear(128, 10)\n",
    "\n",
    "    def forward(self, x):\n",
    "        x = self.bn1(F.relu(self.conv1(x)))\n",
    "        x = self.bn15(F.relu(self.pool(self.conv15(x))))\n",
    "#         print x.size()\n",
    "        x = self.bn2(F.relu(self.conv2(x)))\n",
    "        x = self.bn25(F.relu(self.pool(self.conv25(x))))\n",
    "#         print x.size()\n",
    "        x = self.bn3(F.relu(self.conv3(x)))\n",
    "        x = self.bn35(F.relu(self.pool(self.conv35(x))))\n",
    "#         print x.size()\n",
    "        x = x.view(-1, 512 * 4 * 4)\n",
    "#         print x.size()\n",
    "        x = self.bn4(F.relu(self.fc1(x)))\n",
    "        x = F.dropout(x, training=self.training, p=0.2)\n",
    "#         print x.size()\n",
    "        x = self.fc2(x)\n",
    "        return x\n",
    "\n",
    "net = Net().cuda()\n",
    "net.apply(weights_init)"
   ]
  },
  {
   "cell_type": "code",
   "execution_count": 42,
   "metadata": {},
   "outputs": [],
   "source": [
    "criterion = nn.CrossEntropyLoss()\n",
    "optimizer = optim.Adam(net.parameters(), betas=(0.9, 0.999),lr=0.001, weight_decay=5e-4)\n",
    "# optimizer = optim.SGD(net.parameters(), lr=0.01, momentum=0.9, weight_decay=5e-4)\n",
    "# scheduler = lr_scheduler.MultiStepLR(optimizer, milestones=[30,40], gamma=0.1)\n",
    "\n",
    "batch_ = []\n",
    "train_accu = []\n",
    "val_accu = []\n",
    "test_accu = []\n",
    "train_loss = []\n",
    "val_loss = []\n",
    "test_loss = []\n",
    "\n",
    "epoch_total = 50\n",
    "cur_epoch = 0"
   ]
  },
  {
   "cell_type": "code",
   "execution_count": 43,
   "metadata": {
    "scrolled": false
   },
   "outputs": [
    {
     "name": "stdout",
     "output_type": "stream",
     "text": [
      "[1 200] accuracy: 54.76 %, loss: 1.253559\n",
      "Accuracy on validation dataset: 58.33 %, loss: 1.140669\n",
      "Accuracy on testing dataset: 61.50 %, loss: 1.078923\n",
      "****************************************\n",
      "0\n",
      "[2 200] accuracy: 65.91 %, loss: 0.970090\n",
      "Accuracy on validation dataset: 67.09 %, loss: 0.930817\n",
      "Accuracy on testing dataset: 68.33 %, loss: 0.897781\n",
      "****************************************\n",
      "0\n",
      "[3 200] accuracy: 71.19 %, loss: 0.827119\n",
      "Accuracy on validation dataset: 70.30 %, loss: 0.862115\n",
      "Accuracy on testing dataset: 71.34 %, loss: 0.828754\n",
      "****************************************\n",
      "0\n",
      "[4 200] accuracy: 74.14 %, loss: 0.753079\n",
      "Accuracy on validation dataset: 73.79 %, loss: 0.765061\n",
      "Accuracy on testing dataset: 75.81 %, loss: 0.718918\n",
      "****************************************\n",
      "0\n",
      "[5 200] accuracy: 78.25 %, loss: 0.634398\n",
      "Accuracy on validation dataset: 75.00 %, loss: 0.732195\n",
      "Accuracy on testing dataset: 76.41 %, loss: 0.680320\n",
      "****************************************\n",
      "0\n",
      "[6 200] accuracy: 80.20 %, loss: 0.578211\n",
      "Accuracy on validation dataset: 77.08 %, loss: 0.674000\n",
      "Accuracy on testing dataset: 78.69 %, loss: 0.624552\n",
      "****************************************\n",
      "0\n",
      "[7 200] accuracy: 81.04 %, loss: 0.555740\n",
      "Accuracy on validation dataset: 77.36 %, loss: 0.662065\n",
      "Accuracy on testing dataset: 78.68 %, loss: 0.642302\n",
      "****************************************\n",
      "0\n",
      "[8 200] accuracy: 83.23 %, loss: 0.487767\n",
      "Accuracy on validation dataset: 79.37 %, loss: 0.605769\n",
      "Accuracy on testing dataset: 79.66 %, loss: 0.605411\n",
      "****************************************\n",
      "0\n",
      "[9 200] accuracy: 84.42 %, loss: 0.457294\n",
      "Accuracy on validation dataset: 79.16 %, loss: 0.609028\n",
      "Accuracy on testing dataset: 80.28 %, loss: 0.584193\n",
      "****************************************\n",
      "0\n",
      "[10 200] accuracy: 84.68 %, loss: 0.446086\n",
      "Accuracy on validation dataset: 80.18 %, loss: 0.581369\n",
      "Accuracy on testing dataset: 81.21 %, loss: 0.563141\n",
      "****************************************\n",
      "0\n",
      "[11 200] accuracy: 86.22 %, loss: 0.406306\n",
      "Accuracy on validation dataset: 80.69 %, loss: 0.571256\n",
      "Accuracy on testing dataset: 81.83 %, loss: 0.540106\n",
      "****************************************\n",
      "0\n",
      "[12 200] accuracy: 86.75 %, loss: 0.391452\n",
      "Accuracy on validation dataset: 80.28 %, loss: 0.575435\n",
      "Accuracy on testing dataset: 81.34 %, loss: 0.536624\n",
      "****************************************\n",
      "1\n",
      "[13 200] accuracy: 86.90 %, loss: 0.381939\n",
      "Accuracy on validation dataset: 80.99 %, loss: 0.554808\n",
      "Accuracy on testing dataset: 82.65 %, loss: 0.528805\n",
      "****************************************\n",
      "0\n",
      "[14 200] accuracy: 88.07 %, loss: 0.350574\n",
      "Accuracy on validation dataset: 79.95 %, loss: 0.592585\n",
      "Accuracy on testing dataset: 80.67 %, loss: 0.590201\n",
      "****************************************\n",
      "1\n",
      "[15 200] accuracy: 88.30 %, loss: 0.346059\n",
      "Accuracy on validation dataset: 81.04 %, loss: 0.577632\n",
      "Accuracy on testing dataset: 82.16 %, loss: 0.556436\n",
      "****************************************\n",
      "0\n",
      "[16 200] accuracy: 88.57 %, loss: 0.336570\n",
      "Accuracy on validation dataset: 82.12 %, loss: 0.537436\n",
      "Accuracy on testing dataset: 82.79 %, loss: 0.526750\n",
      "****************************************\n",
      "0\n",
      "[17 200] accuracy: 88.21 %, loss: 0.350666\n",
      "Accuracy on validation dataset: 80.75 %, loss: 0.585601\n",
      "Accuracy on testing dataset: 81.60 %, loss: 0.569661\n",
      "****************************************\n",
      "1\n",
      "[18 200] accuracy: 89.83 %, loss: 0.301058\n",
      "Accuracy on validation dataset: 81.39 %, loss: 0.552873\n",
      "Accuracy on testing dataset: 82.51 %, loss: 0.528862\n",
      "****************************************\n",
      "0\n",
      "[19 200] accuracy: 89.28 %, loss: 0.308853\n",
      "Accuracy on validation dataset: 81.78 %, loss: 0.541014\n",
      "Accuracy on testing dataset: 83.10 %, loss: 0.513202\n",
      "****************************************\n",
      "0\n",
      "[20 200] accuracy: 89.35 %, loss: 0.312429\n",
      "Accuracy on validation dataset: 82.30 %, loss: 0.536008\n",
      "Accuracy on testing dataset: 83.58 %, loss: 0.512205\n",
      "****************************************\n",
      "0\n",
      "[21 200] accuracy: 90.50 %, loss: 0.280514\n",
      "Accuracy on validation dataset: 81.70 %, loss: 0.549346\n",
      "Accuracy on testing dataset: 82.98 %, loss: 0.515021\n",
      "****************************************\n",
      "1\n",
      "[22 200] accuracy: 90.39 %, loss: 0.285374\n",
      "Accuracy on validation dataset: 82.37 %, loss: 0.538781\n",
      "Accuracy on testing dataset: 82.86 %, loss: 0.539711\n",
      "****************************************\n",
      "0\n",
      "[23 200] accuracy: 90.98 %, loss: 0.265963\n",
      "Accuracy on validation dataset: 82.44 %, loss: 0.519649\n",
      "Accuracy on testing dataset: 83.90 %, loss: 0.493428\n",
      "****************************************\n",
      "0\n",
      "[24 200] accuracy: 91.27 %, loss: 0.260092\n",
      "Accuracy on validation dataset: 81.92 %, loss: 0.562898\n",
      "Accuracy on testing dataset: 82.91 %, loss: 0.531435\n",
      "****************************************\n",
      "1\n",
      "[25 200] accuracy: 90.85 %, loss: 0.265928\n",
      "Accuracy on validation dataset: 83.41 %, loss: 0.501880\n",
      "Accuracy on testing dataset: 84.99 %, loss: 0.471156\n",
      "****************************************\n",
      "0\n",
      "[26 200] accuracy: 91.32 %, loss: 0.252174\n",
      "Accuracy on validation dataset: 83.02 %, loss: 0.531500\n",
      "Accuracy on testing dataset: 83.83 %, loss: 0.512352\n",
      "****************************************\n",
      "1\n",
      "[27 200] accuracy: 91.56 %, loss: 0.250013\n",
      "Accuracy on validation dataset: 82.36 %, loss: 0.553627\n",
      "Accuracy on testing dataset: 82.43 %, loss: 0.537825\n",
      "****************************************\n",
      "2\n",
      "[28 200] accuracy: 94.11 %, loss: 0.180908\n",
      "Accuracy on validation dataset: 86.34 %, loss: 0.424677\n",
      "Accuracy on testing dataset: 87.45 %, loss: 0.401533\n",
      "****************************************\n",
      "0\n",
      "[29 200] accuracy: 94.97 %, loss: 0.154140\n",
      "Accuracy on validation dataset: 87.02 %, loss: 0.404736\n",
      "Accuracy on testing dataset: 87.63 %, loss: 0.403987\n",
      "****************************************\n",
      "0\n",
      "[30 200] accuracy: 95.49 %, loss: 0.137284\n",
      "Accuracy on validation dataset: 86.83 %, loss: 0.404907\n",
      "Accuracy on testing dataset: 87.68 %, loss: 0.388631\n",
      "****************************************\n",
      "1\n",
      "[31 200] accuracy: 95.97 %, loss: 0.124083\n",
      "Accuracy on validation dataset: 87.20 %, loss: 0.410150\n",
      "Accuracy on testing dataset: 87.94 %, loss: 0.394138\n",
      "****************************************\n",
      "2\n",
      "[32 200] accuracy: 96.17 %, loss: 0.119061\n",
      "Accuracy on validation dataset: 87.40 %, loss: 0.396896\n",
      "Accuracy on testing dataset: 88.12 %, loss: 0.376315\n",
      "****************************************\n",
      "0\n",
      "[33 200] accuracy: 96.17 %, loss: 0.116047\n",
      "Accuracy on validation dataset: 87.45 %, loss: 0.391396\n",
      "Accuracy on testing dataset: 88.16 %, loss: 0.376799\n",
      "****************************************\n",
      "0\n",
      "[34 200] accuracy: 96.37 %, loss: 0.114596\n",
      "Accuracy on validation dataset: 87.79 %, loss: 0.390897\n",
      "Accuracy on testing dataset: 88.15 %, loss: 0.376523\n",
      "****************************************\n",
      "0\n",
      "[35 200] accuracy: 96.47 %, loss: 0.112590\n",
      "Accuracy on validation dataset: 87.65 %, loss: 0.384314\n",
      "Accuracy on testing dataset: 88.23 %, loss: 0.375837\n",
      "****************************************\n",
      "0\n",
      "[36 200] accuracy: 96.50 %, loss: 0.111282\n",
      "Accuracy on validation dataset: 87.56 %, loss: 0.392853\n",
      "Accuracy on testing dataset: 88.16 %, loss: 0.377678\n",
      "****************************************\n",
      "1\n",
      "[37 200] accuracy: 96.58 %, loss: 0.107502\n",
      "Accuracy on validation dataset: 87.60 %, loss: 0.387713\n",
      "Accuracy on testing dataset: 88.24 %, loss: 0.377919\n",
      "****************************************\n",
      "0\n",
      "[38 200] accuracy: 96.56 %, loss: 0.108989\n",
      "Accuracy on validation dataset: 87.53 %, loss: 0.388733\n",
      "Accuracy on testing dataset: 88.11 %, loss: 0.377034\n",
      "****************************************\n",
      "1\n",
      "[39 200] accuracy: 96.70 %, loss: 0.106299\n",
      "Accuracy on validation dataset: 87.48 %, loss: 0.396144\n",
      "Accuracy on testing dataset: 88.18 %, loss: 0.379563\n",
      "****************************************\n",
      "2\n",
      "Finished Training\n"
     ]
    }
   ],
   "source": [
    "flag = 0\n",
    "flg = 0\n",
    "for epoch in range(epoch_total):  # loop over the dataset multiple times\n",
    "    \n",
    "    \n",
    "    net.train()\n",
    "#     if epoch >= 40:\n",
    "#         for a in optimizer.param_groups:\n",
    "#             a['lr'] = 0.00001\n",
    "    \n",
    "#     running_loss = 0.0\n",
    "#     scheduler.step()\n",
    "    for i, data in enumerate(trainloader, 0):\n",
    "        # get the inputs\n",
    "        inputs, labels = data\n",
    "\n",
    "        # wrap them in Variable\n",
    "        inputs, labels = Variable(inputs).cuda(), Variable(labels).cuda()\n",
    "#         print labels.size()\n",
    "        # zero the parameter gradients\n",
    "        optimizer.zero_grad()\n",
    "\n",
    "        # forward + backward + optimize\n",
    "        outputs = net(inputs)\n",
    "#         print outputs.size()\n",
    "        loss = criterion(outputs, labels)\n",
    "        loss.backward()\n",
    "        optimizer.step()\n",
    "\n",
    "#         # print statistics\n",
    "#         running_loss += loss.data[0]\n",
    "        if i % 200 == 199:\n",
    "            accu_, loss_ = eva(trloader)\n",
    "            train_accu.append(accu_)\n",
    "            train_loss.append(loss_)\n",
    "            batch_.append(cur_epoch+epoch + i*1.0/len(trainloader))\n",
    "            print('[%d %d] accuracy: %.2f %%, loss: %f' % (cur_epoch+epoch+1, i+1, accu_, loss_))\n",
    "#             running_loss = 0.0\n",
    "    accu_val, loss_val = eva(valiloader)\n",
    "    val_accu.append(accu_val)\n",
    "    val_loss.append(loss_val)\n",
    "    print('Accuracy on validation dataset: %.2f %%, loss: %f'\n",
    "          % (accu_val, loss_val))\n",
    "    accu_ts, loss_ts = eva(testloader)\n",
    "    test_accu.append(accu_ts)\n",
    "    test_loss.append(loss_ts)\n",
    "    print('Accuracy on testing dataset: %.2f %%, loss: %f'\n",
    "          % (accu_ts, loss_ts))\n",
    "    print('*'*40)\n",
    "    \n",
    "    if epoch>10 and val_loss[-1] > val_loss[-2]:\n",
    "        flag += 1\n",
    "    else:\n",
    "        flag = 0\n",
    "    print(flag)\n",
    "    if flag == 2:\n",
    "        flag = 0\n",
    "        flg += 1\n",
    "        for a in optimizer.param_groups:\n",
    "            a['lr'] *= 0.1\n",
    "    if flg == 3:\n",
    "        break\n",
    "cur_epoch += epoch\n",
    "print('Finished Training')"
   ]
  },
  {
   "cell_type": "code",
   "execution_count": 12,
   "metadata": {},
   "outputs": [
    {
     "data": {
      "image/png": "[encoded data removed]",
      "text/plain": [
       "<matplotlib.figure.Figure at 0x7f8b2969bed0>"
      ]
     },
     "metadata": {},
     "output_type": "display_data"
    }
   ],
   "source": [
    "confusion(testloader)"
   ]
  },
  {
   "cell_type": "code",
   "execution_count": 45,
   "metadata": {},
   "outputs": [
    {
     "data": {
      "text/plain": [
       "<matplotlib.legend.Legend at 0x7fa38e024710>"
      ]
     },
     "execution_count": 45,
     "metadata": {},
     "output_type": "execute_result"
    },
    {
     "data": {
      "image/png": "[encoded data removed]",
      "text/plain": [
       "<matplotlib.figure.Figure at 0x7fa38e08f990>"
      ]
     },
     "metadata": {},
     "output_type": "display_data"
    },
    {
     "data": {
      "image/png": "[encoded data removed]",
      "text/plain": [
       "<matplotlib.figure.Figure at 0x7fa38e1c8e50>"
      ]
     },
     "metadata": {},
     "output_type": "display_data"
    }
   ],
   "source": [
    "cur_epoch = 39\n",
    "plt.figure()\n",
    "plt.plot(batch_, train_accu)\n",
    "plt.plot(list(range(1,cur_epoch+1)),val_accu)\n",
    "plt.plot(list(range(1,cur_epoch+1)),test_accu)\n",
    "plt.grid()\n",
    "plt.title('Accuracy vs Epoch')\n",
    "plt.xlabel('Epoch')\n",
    "plt.ylabel('Accuracy')\n",
    "plt.legend(['train','validation','test'],loc=4)\n",
    "\n",
    "plt.figure()\n",
    "plt.plot(batch_, train_loss)\n",
    "plt.plot(list(range(1,cur_epoch+1)),val_loss)\n",
    "plt.plot(list(range(1,cur_epoch+1)),test_loss)\n",
    "plt.grid()\n",
    "plt.title('Loss vs Epoch')\n",
    "plt.xlabel('Epoch')\n",
    "plt.ylabel('Loss')\n",
    "plt.legend(['train','validation','test'],loc=1)"
   ]
  },
  {
   "cell_type": "code",
   "execution_count": 46,
   "metadata": {},
   "outputs": [
    {
     "data": {
      "text/plain": [
       "1.0000000000000002e-06"
      ]
     },
     "execution_count": 46,
     "metadata": {},
     "output_type": "execute_result"
    }
   ],
   "source": [
    "optimizer.param_groups[0]['lr']"
   ]
  }
 ],
 "metadata": {
  "kernelspec": {
   "display_name": "Python 2",
   "language": "python",
   "name": "python2"
  },
  "language_info": {
   "codemirror_mode": {
    "name": "ipython",
    "version": 2
   },
   "file_extension": ".py",
   "mimetype": "text/x-python",
   "name": "python",
   "nbconvert_exporter": "python",
   "pygments_lexer": "ipython2",
   "version": "2.7.14"
  }
 },
 "nbformat": 4,
 "nbformat_minor": 2
}
